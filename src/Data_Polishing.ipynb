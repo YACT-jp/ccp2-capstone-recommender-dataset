{
 "cells": [
  {
   "cell_type": "markdown",
   "id": "a90a9ee7-701d-4b95-9896-6ba060fb1a83",
   "metadata": {},
   "source": [
    "# Data Polishing\n",
    "The objective of this notebook is to give the data a final formatting and cleanup so it is more appropriate for presentation. Before starting, don't forget to setup your **virtual environment** with the necessary dependencies as specified in the `README.md` file."
   ]
  },
  {
   "cell_type": "markdown",
   "id": "6302c1b4-f636-4e0a-ac1a-4a6d0e5823a2",
   "metadata": {},
   "source": [
    "## Imports\n",
    "As usual, let's start by importing our libraries."
   ]
  },
  {
   "cell_type": "code",
   "execution_count": 2,
   "id": "c333f329-204a-4976-8769-d93de474ff01",
   "metadata": {},
   "outputs": [],
   "source": [
    "import csv\n",
    "import json\n",
    "import pprint"
   ]
  },
  {
   "cell_type": "markdown",
   "id": "25ade588-8142-4632-9be6-51a6542db361",
   "metadata": {},
   "source": [
    "Following, let's load our current **training dataset** and take a look at the data."
   ]
  },
  {
   "cell_type": "code",
   "execution_count": 14,
   "id": "c85c1d98-0229-4f36-93da-235c1f24203f",
   "metadata": {},
   "outputs": [
    {
     "name": "stdout",
     "output_type": "stream",
     "text": [
      "[['1001', '1436', 'Mr. Jones'],\n",
      " ['1002', '1179', 'Man of the House'],\n",
      " ['1003', '354', 'Wedding Singer, The'],\n",
      " ['1004', '1629', 'Nico Icon'],\n",
      " ['1005', '839', 'Loch Ness'],\n",
      " ['1006', '216', 'When Harry Met Sally...'],\n",
      " ['1007', '956', \"Nobody's Fool\"],\n",
      " ['1008', '1035', 'Cool Runnings'],\n",
      " ['1009', '1603', 'Angela'],\n",
      " ['1010', '573', 'Body Snatchers'],\n",
      " ['1011', '667', 'Audrey Rose'],\n",
      " ['1012', '1233', 'N\\\\xc3\\\\xa9nette et Boni'],\n",
      " ['1013', '67', 'Ace Ventura: Pet Detective'],\n",
      " ['1014', '1387', 'Fall'],\n",
      " ['1015', '924', 'White Squall'],\n",
      " ['1016', '1025', 'Fire Down Below'],\n",
      " ['1017', '1545', 'Frankie Starlight'],\n",
      " ['1018', '1524', 'Kaspar Hauser'],\n",
      " ['1019', '1112', 'Cobb'],\n",
      " ['1020', '414', 'My Favorite Year']]\n",
      "Media Items: 1682\n"
     ]
    }
   ],
   "source": [
    "with open('../RawData/modified_media_items.csv') as csv_file:\n",
    "    csv_reader = csv.reader(csv_file, delimiter=',')\n",
    "    current_media_data = []\n",
    "    for row in csv_reader:\n",
    "        record_id = row[0]\n",
    "        media_id = row[1]\n",
    "        media_title = row[2]\n",
    "        current_media_data.append([record_id, media_id, media_title])\n",
    "        \n",
    "# Take the headers out of the data\n",
    "current_media_data = current_media_data[1:]\n",
    "        \n",
    "pprint.pprint(current_media_data[1000:1020])\n",
    "print(\"Media Items:\", len(current_media_data))"
   ]
  },
  {
   "cell_type": "markdown",
   "id": "79fa5925-b920-434d-be34-7195b394e6c2",
   "metadata": {},
   "source": [
    "There is not too much to fix on the Anime titles format, but when we get to the movie titles we can see that some of them have *The* at the end, making it hard to read. This might also present a problem for the Front-end team when they make calls to the Recommender System. Let's check what kind of discrepancies we have and how many times they occur."
   ]
  },
  {
   "cell_type": "code",
   "execution_count": 20,
   "id": "9042a0c5-fd2e-4797-bbe3-e6802f7c338a",
   "metadata": {},
   "outputs": [
    {
     "name": "stdout",
     "output_type": "stream",
     "text": [
      "{', A': ['1493',\n",
      "         '1094',\n",
      "         '179',\n",
      "         '507',\n",
      "         '686',\n",
      "         '1063',\n",
      "         '1665',\n",
      "         '814',\n",
      "         '1075',\n",
      "         '1602',\n",
      "         '964',\n",
      "         '560',\n",
      "         '1181',\n",
      "         '553',\n",
      "         '886',\n",
      "         '412',\n",
      "         '189',\n",
      "         '1576',\n",
      "         '1671',\n",
      "         '1292',\n",
      "         '1310',\n",
      "         '1219'],\n",
      " ', An': ['602', '436', '1227'],\n",
      " ', Aruiwa Sekai ga Hajimaru Seisen (Zoku-hen)': ['454'],\n",
      " ', Chouju Ryouri Taiketsu!!': ['1060'],\n",
      " ', Corrina': ['731'],\n",
      " ', Das': ['515'],\n",
      " ', Fukenkou yo! (Kari)': ['80'],\n",
      " ', Good Night (Re:Dialed)': ['1410'],\n",
      " ', Guido': ['995'],\n",
      " ', Hana no 17-sai': ['290'],\n",
      " ', Haruka': ['625'],\n",
      " ', Iwarenaki Jaryuu Nintei': ['586'],\n",
      " ', Konkon, Koi Iroha.: Inari, Konkon, Semishigure.': ['1071'],\n",
      " \", L'\": ['1535'],\n",
      " ', La': ['1623', '1578', '296'],\n",
      " ', La (Double Life of Veronique, The)': ['1005'],\n",
      " ', La (Life is Rosey)': ['1569'],\n",
      " ', La)': ['1097', '730'],\n",
      " ', Le': ['1382'],\n",
      " ', Les': ['543'],\n",
      " ', Les)': ['1155'],\n",
      " ', Lies, and Videotape': ['708'],\n",
      " ', Maybe Not (Bewegte Mann, Der)': ['1202'],\n",
      " ', Other Rooms': ['1236'],\n",
      " ', Professore!': ['1402'],\n",
      " ', Thanks for Everything! Julie Newmar': ['40'],\n",
      " ', The': ['1205',\n",
      "           '1417',\n",
      "           '252',\n",
      "           '1390',\n",
      "           '1516',\n",
      "           '253',\n",
      "           '1135',\n",
      "           '1592',\n",
      "           '1627',\n",
      "           '979',\n",
      "           '1076',\n",
      "           '195',\n",
      "           '843',\n",
      "           '595',\n",
      "           '269',\n",
      "           '1298',\n",
      "           '1645',\n",
      "           '448',\n",
      "           '415',\n",
      "           '994',\n",
      "           '562',\n",
      "           '524',\n",
      "           '1224',\n",
      "           '933',\n",
      "           '533',\n",
      "           '72',\n",
      "           '697',\n",
      "           '354',\n",
      "           '1184',\n",
      "           '896',\n",
      "           '1257',\n",
      "           '1282',\n",
      "           '767',\n",
      "           '1317',\n",
      "           '748',\n",
      "           '1363',\n",
      "           '1061',\n",
      "           '704',\n",
      "           '946',\n",
      "           '484',\n",
      "           '1360',\n",
      "           '71',\n",
      "           '698',\n",
      "           '548',\n",
      "           '503',\n",
      "           '91',\n",
      "           '1658',\n",
      "           '1649',\n",
      "           '934',\n",
      "           '810',\n",
      "           '1581',\n",
      "           '1372',\n",
      "           '642',\n",
      "           '951',\n",
      "           '1030',\n",
      "           '1051',\n",
      "           '899',\n",
      "           '371',\n",
      "           '1547',\n",
      "           '463',\n",
      "           '1106',\n",
      "           '1473',\n",
      "           '98',\n",
      "           '1620',\n",
      "           '476',\n",
      "           '584',\n",
      "           '342',\n",
      "           '1002',\n",
      "           '1140',\n",
      "           '596',\n",
      "           '1468',\n",
      "           '1540',\n",
      "           '1172',\n",
      "           '1631',\n",
      "           '791',\n",
      "           '426',\n",
      "           '1050',\n",
      "           '1058',\n",
      "           '1409',\n",
      "           '587',\n",
      "           '1525',\n",
      "           '520',\n",
      "           '1675',\n",
      "           '12',\n",
      "           '115',\n",
      "           '333',\n",
      "           '865',\n",
      "           '774',\n",
      "           '250',\n",
      "           '79',\n",
      "           '1497',\n",
      "           '34',\n",
      "           '519',\n",
      "           '1614',\n",
      "           '478',\n",
      "           '749',\n",
      "           '1371',\n",
      "           '148',\n",
      "           '68',\n",
      "           '411',\n",
      "           '441',\n",
      "           '331',\n",
      "           '711',\n",
      "           '513',\n",
      "           '1256',\n",
      "           '1034',\n",
      "           '824',\n",
      "           '493',\n",
      "           '126',\n",
      "           '356',\n",
      "           '928',\n",
      "           '1566',\n",
      "           '1167',\n",
      "           '81',\n",
      "           '1418',\n",
      "           '825',\n",
      "           '1116',\n",
      "           '444',\n",
      "           '127',\n",
      "           '1316',\n",
      "           '1392',\n",
      "           '173',\n",
      "           '460',\n",
      "           '852',\n",
      "           '808',\n",
      "           '337',\n",
      "           '1467',\n",
      "           '525',\n",
      "           '968',\n",
      "           '1183',\n",
      "           '692',\n",
      "           '931',\n",
      "           '1340',\n",
      "           '637',\n",
      "           '589',\n",
      "           '1612',\n",
      "           '122',\n",
      "           '123',\n",
      "           '305',\n",
      "           '1455',\n",
      "           '392',\n",
      "           '26',\n",
      "           '1640',\n",
      "           '1144',\n",
      "           '311',\n",
      "           '245',\n",
      "           '1383',\n",
      "           '281',\n",
      "           '64',\n",
      "           '521'],\n",
      " ', The (Apur Sansar)': ['1512'],\n",
      " ', The (Blaue Engel, Der)': ['617'],\n",
      " ', The (Cristo proibito, Il)': ['1369'],\n",
      " ', The (Flor de mi secreto, La)': ['927'],\n",
      " ', The (Giardino dei Finzi-Contini, Il)': ['863'],\n",
      " ', The (Grand bleu, Le)': ['947'],\n",
      " ', The (Hussard sur le toit, Le)': ['113'],\n",
      " ', The (Narayama Bushiko)': ['1347'],\n",
      " ', The (Retour de Martin Guerre, Le)': ['638'],\n",
      " ', The (Sjunde inseglet, Det)': ['650'],\n",
      " ', The (Versprechen, Das)': ['1563'],\n",
      " ', The (Wu Kui)': ['1323'],\n",
      " ', The (Zaproszenie)': ['1583'],\n",
      " ', The Bad and The Ugly, The': ['177'],\n",
      " ', Twintail ni Narimasu. Recap': ['1261'],\n",
      " ', Uchuujin to Tatakaemasu.': ['1682'],\n",
      " ', Watashi ga Shitta koto': ['1243'],\n",
      " ', or Not': ['1590'],\n",
      " ', the Beloved Country': ['459'],\n",
      " ', the Fish': ['648']}\n"
     ]
    }
   ],
   "source": [
    "discrepancies = {}\n",
    "\n",
    "for media in current_media_data:\n",
    "    index = media[2].find(\", \") \n",
    "    if index > -1:\n",
    "        key = media[2][index:]\n",
    "        if key in discrepancies.keys():\n",
    "            discrepancies[key].append(media[1])\n",
    "        else:\n",
    "            discrepancies[key] = [media[1]]\n",
    "            \n",
    "pprint.pprint(discrepancies)"
   ]
  },
  {
   "cell_type": "markdown",
   "id": "63746271-14d8-45b0-a8d3-de1a54278490",
   "metadata": {},
   "source": [
    "Now we can see what discrepancies are the most frequent and where to find them exactly with the matching `media_id`s. Let's start by fixing the most common ones."
   ]
  },
  {
   "cell_type": "code",
   "execution_count": 21,
   "id": "791426fd-8484-47af-b554-a83154661290",
   "metadata": {},
   "outputs": [],
   "source": [
    "for media in current_media_data:\n",
    "    if media[1] in discrepancies[\", A\"]:\n",
    "        media[2] = \"A \" + media[2][:-3] \n",
    "    if media[1] in discrepancies[\", The\"]:\n",
    "        media[2] = \"The \" + media[2][:-5] "
   ]
  },
  {
   "cell_type": "markdown",
   "id": "c8626108-1c57-45c1-8399-bfe5b74e8d27",
   "metadata": {},
   "source": [
    "We can now procede to save our data in a new CSV file."
   ]
  },
  {
   "cell_type": "code",
   "execution_count": 25,
   "id": "07f077b5-8cd9-4e36-98b5-9cf12292dc84",
   "metadata": {},
   "outputs": [],
   "source": [
    "with open('../RawData/clean_media_items.csv', mode='w', newline='') as csv_file:\n",
    "    csv_writer = csv.writer(csv_file, delimiter=',', quotechar='\"', quoting=csv.QUOTE_MINIMAL)\n",
    "    csv_writer.writerow([\"record_id\", \"media_id\", \"media_title\"])\n",
    "\n",
    "    for media in current_media_data:\n",
    "        csv_writer.writerow([media[0], media[1], media[2]])"
   ]
  },
  {
   "cell_type": "markdown",
   "id": "ad9eb8f5-c472-402c-9ecf-59c2d2bab80f",
   "metadata": {},
   "source": [
    "There is still some processing to do in our data, but since there are not so many cases and they are kind of special, we will do this manually on the CSV file. After that we will reload the data again."
   ]
  },
  {
   "cell_type": "code",
   "execution_count": 10,
   "id": "6aedd03b-f5b1-464d-b6ac-89433526f1cd",
   "metadata": {},
   "outputs": [
    {
     "name": "stdout",
     "output_type": "stream",
     "text": [
      "[['1', '1198', 'Classroom Crisis'],\n",
      " ['2', '939', 'Highlander: The Search for Vengeance'],\n",
      " ['3', '1141', 'Chuuken Mochi Shiba'],\n",
      " ['4', '1601', 'Renou Xueyuan'],\n",
      " ['5', '922', 'Jashin-chan Dropkick Episode 12'],\n",
      " ['6', '1190', 'Ketsuekigata-kun! 3'],\n",
      " ['7', '230', 'Sanguo Yanyi 2nd Season: Zhulu Zhongyuan'],\n",
      " ['8', '607', 'Danball Senki'],\n",
      " ['9', '1435', '8-gatsu no Symphony: Shibuya 2002-2003'],\n",
      " ['10', '1557', 'Koisuru Boukun'],\n",
      " ['11', '914', 'Chang Jian Fengyun 2'],\n",
      " ['12', '1398', 'Mahoutsukai no Yome'],\n",
      " ['13', '365', 'New Big Head Son and Little Head Dad Season 3'],\n",
      " ['14', '1414', 'SINBAD'],\n",
      " ['15', '1078', 'Message Song'],\n",
      " ['16', '505', 'Oren no yurai'],\n",
      " ['17', '794', 'Yakimochi Caprice'],\n",
      " ['18', '771', 'Kanojo to Kanojo no Neko: Everything Flows'],\n",
      " ['19', '1133', 'Garakuta-doori no Stain'],\n",
      " ['20', '1127', 'Huanbao Tegong Dui']]\n",
      "Media Items: 1682\n"
     ]
    }
   ],
   "source": [
    "with open('../RawData/clean_media_items.csv') as csv_file:\n",
    "    csv_reader = csv.reader(csv_file, delimiter=',')\n",
    "    clean_media_items = []\n",
    "    for row in csv_reader:\n",
    "        record_id = row[0]\n",
    "        media_id = row[1]\n",
    "        media_title = row[2]\n",
    "        clean_media_items.append([record_id, media_id, media_title])\n",
    "        \n",
    "clean_media_items = clean_media_items[1:]\n",
    "        \n",
    "pprint.pprint(clean_media_items[:20])\n",
    "print(\"Media Items:\", len(clean_media_items))"
   ]
  },
  {
   "cell_type": "markdown",
   "id": "30e2acdb-3841-4e2d-ae14-cbb20757a225",
   "metadata": {},
   "source": [
    "Let's also load the ratings for the final processing."
   ]
  },
  {
   "cell_type": "code",
   "execution_count": 11,
   "id": "46d04cce-b5ee-419d-ba99-547d5e151821",
   "metadata": {},
   "outputs": [
    {
     "name": "stdout",
     "output_type": "stream",
     "text": [
      "[['1', '357', 'Sifan', '138', '4.0'],\n",
      " ['2', '709', 'Strictly Ballroom', '92', '2.0'],\n",
      " ['3', '412', 'Very Brady Sequel, A', '301', '4.0'],\n",
      " ['4', '56', 'Pulp Fiction', '60', '4.0'],\n",
      " ['5', '895', 'Kobo-chan: Matsuri ga Ippai!', '197', '3.0'],\n",
      " ['6', '325', 'Crash', '601', '4.0'],\n",
      " ['7', '95', 'Zhun Xing', '710', '3.0'],\n",
      " ['8', '92', 'True Romance', '833', '2.0'],\n",
      " ['9', '425', 'Bob Roberts', '916', '5.0'],\n",
      " ['10', '271', 'Starship Troopers', '940', '2.0'],\n",
      " ['11', '355', 'Sphere', '611', '1.0'],\n",
      " ['12', '712', 'Baosheng Dadi Zhi Qi Er Duo Bao', '707', '3.0'],\n",
      " ['13', '825', 'Arrival, The', '699', '3.0'],\n",
      " ['14', '240', 'Zhu Zhu Xia: Jing Qiu Xiao Yingxiong', '16', '4.0'],\n",
      " ['15', '1150', 'Last Dance', '314', '4.0'],\n",
      " ['16', '684', 'In the Line of Fire', '217', '5.0'],\n",
      " ['17', '124', 'Lone Star', '276', '5.0'],\n",
      " ['18', '294', 'Karakuri Circus (TV)', '510', '3.0'],\n",
      " ['19', '265', 'Haitoku no Kyoukai', '757', '3.0'],\n",
      " ['20', '465', 'Chan Shuo A Kuan', '881', '3.0']]\n",
      "Ratings: 100000\n"
     ]
    }
   ],
   "source": [
    "with open('../RawData/modified_ratings.csv') as csv_file:\n",
    "    csv_reader = csv.reader(csv_file, delimiter=',')\n",
    "    modified_ratings = []\n",
    "    for row in csv_reader:\n",
    "        record_id = row[0]\n",
    "        media_id = row[1]\n",
    "        media_title = row[2]\n",
    "        user_id = row[3]\n",
    "        user_rating = row[4]\n",
    "        modified_ratings.append([record_id, media_id, media_title, user_id, user_rating])\n",
    "        \n",
    "modified_ratings = modified_ratings[1:]\n",
    "        \n",
    "pprint.pprint(modified_ratings[:20])\n",
    "print(\"Ratings:\", len(modified_ratings))"
   ]
  },
  {
   "cell_type": "markdown",
   "id": "9f5efdb7-0b5d-49d6-8ce6-b1db756b465e",
   "metadata": {},
   "source": [
    "Now, let's replace one more time the titles in the ratings with the new data."
   ]
  },
  {
   "cell_type": "code",
   "execution_count": 14,
   "id": "44d727a1-d530-41d3-b59b-46bab0ce8ee5",
   "metadata": {},
   "outputs": [
    {
     "name": "stdout",
     "output_type": "stream",
     "text": [
      "[['1', '357', 'Sifan', '138', '4.0'],\n",
      " ['2', '709', 'Strictly Ballroom', '92', '2.0'],\n",
      " ['3', '412', 'A Very Brady Sequel', '301', '4.0'],\n",
      " ['4', '56', 'Pulp Fiction', '60', '4.0'],\n",
      " ['5', '895', 'Kobo-chan: Matsuri ga Ippai!', '197', '3.0'],\n",
      " ['6', '325', 'Crash', '601', '4.0'],\n",
      " ['7', '95', 'Zhun Xing', '710', '3.0'],\n",
      " ['8', '92', 'True Romance', '833', '2.0'],\n",
      " ['9', '425', 'Bob Roberts', '916', '5.0'],\n",
      " ['10', '271', 'Starship Troopers', '940', '2.0'],\n",
      " ['11', '355', 'Sphere', '611', '1.0'],\n",
      " ['12', '712', 'Baosheng Dadi Zhi Qi Er Duo Bao', '707', '3.0'],\n",
      " ['13', '825', 'The Arrival', '699', '3.0'],\n",
      " ['14', '240', 'Zhu Zhu Xia: Jing Qiu Xiao Yingxiong', '16', '4.0'],\n",
      " ['15', '1150', 'Last Dance', '314', '4.0'],\n",
      " ['16', '684', 'In the Line of Fire', '217', '5.0'],\n",
      " ['17', '124', 'Lone Star', '276', '5.0'],\n",
      " ['18', '294', 'Karakuri Circus (TV)', '510', '3.0'],\n",
      " ['19', '265', 'Haitoku no Kyoukai', '757', '3.0'],\n",
      " ['20', '465', 'Chan Shuo A Kuan', '881', '3.0']]\n",
      "Ratings: 100000\n"
     ]
    }
   ],
   "source": [
    "for rating in modified_ratings:\n",
    "    for media in clean_media_items:\n",
    "        if media[1] == rating[1]:\n",
    "            rating[2] = media[2]\n",
    "            \n",
    "pprint.pprint(modified_ratings[:20])\n",
    "print(\"Ratings:\", len(modified_ratings))"
   ]
  },
  {
   "cell_type": "markdown",
   "id": "f8e936b2-9f7a-4614-9450-f9480f096f51",
   "metadata": {},
   "source": [
    "Finally, let's save our progress in a CSV file."
   ]
  },
  {
   "cell_type": "code",
   "execution_count": 15,
   "id": "ba140e7e-6720-41f5-a549-b21c5dc231d0",
   "metadata": {},
   "outputs": [],
   "source": [
    "with open('../RawData/clean_ratings.csv', mode='w', newline='') as csv_file:\n",
    "    csv_writer = csv.writer(csv_file, delimiter=',', quotechar='\"', quoting=csv.QUOTE_MINIMAL)\n",
    "    csv_writer.writerow([\"record_id\", \"media_id\", \"media_title\", \"user_id\", \"user_rating\"])\n",
    "\n",
    "    for rating in modified_ratings:\n",
    "        csv_writer.writerow([rating[0], rating[1], rating[2], rating[3], rating[4]])"
   ]
  },
  {
   "cell_type": "markdown",
   "id": "ce12f770-3c0e-4eac-b15d-c12fb2150492",
   "metadata": {},
   "source": [
    "Now we can proceed to create the new Datasets with the polished data."
   ]
  },
  {
   "cell_type": "code",
   "execution_count": null,
   "id": "d9469bf8-0388-4b47-b9c3-735262c63a78",
   "metadata": {},
   "outputs": [],
   "source": []
  }
 ],
 "metadata": {
  "kernelspec": {
   "display_name": "Python 3 (ipykernel)",
   "language": "python",
   "name": "python3"
  },
  "language_info": {
   "codemirror_mode": {
    "name": "ipython",
    "version": 3
   },
   "file_extension": ".py",
   "mimetype": "text/x-python",
   "name": "python",
   "nbconvert_exporter": "python",
   "pygments_lexer": "ipython3",
   "version": "3.8.12"
  }
 },
 "nbformat": 4,
 "nbformat_minor": 5
}
